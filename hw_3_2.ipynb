{
 "cells": [
  {
   "cell_type": "markdown",
   "metadata": {},
   "source": [
    "# Поэкспериментируйте с различными методами запросов."
   ]
  },
  {
   "cell_type": "code",
   "execution_count": 47,
   "metadata": {},
   "outputs": [],
   "source": [
    "import json\n",
    "from pymongo import MongoClient"
   ]
  },
  {
   "cell_type": "code",
   "execution_count": 48,
   "metadata": {},
   "outputs": [],
   "source": [
    "client = MongoClient('mongodb://localhost:27017/')\n",
    "db = client['hw']\n",
    "collection = db['books']"
   ]
  },
  {
   "cell_type": "code",
   "execution_count": 49,
   "metadata": {},
   "outputs": [
    {
     "name": "stdout",
     "output_type": "stream",
     "text": [
      "Число записей в базе данных: 1000\n"
     ]
    }
   ],
   "source": [
    "count = collection.count_documents({})\n",
    "print(f'Число записей в базе данных: {count}')"
   ]
  },
  {
   "cell_type": "code",
   "execution_count": 50,
   "metadata": {},
   "outputs": [
    {
     "name": "stdout",
     "output_type": "stream",
     "text": [
      "Книги, которых на складе осталось по одной штуке:\n",
      "\n",
      "1. Y: The Last Man, Vol. 1: Unmanned (Y: The Last Man #1)\n",
      "2. While You Were Mine\n",
      "3. Where Lightning Strikes (Bleeding Stars #3)\n",
      "4. When I'm Gone\n",
      "5. Ways of Seeing\n",
      "6. Vampire Knight, Vol. 1 (Vampire Knight #1)\n",
      "7. Vampire Girl (Vampire Girl #1)\n",
      "8. Twenty Love Poems and a Song of Despair\n",
      "9. Travels with Charley: In Search of America\n",
      "10. Three Wishes (River of Time: California #1)\n",
      "11. This One Moment (Pushing Limits #1)\n",
      "12. The Zombie Room\n",
      "13. The Wicked + The Divine, Vol. 1: The Faust Act (The Wicked + The Divine)\n",
      "14. The Tumor\n",
      "15. The Story of Hong Gildong\n",
      "16. The Silent Wife\n",
      "17. The Silent Twin (Detective Jennifer Knight #3)\n",
      "18. The Selfish Gene\n",
      "19. The Secret Healer\n",
      "20. The Sandman, Vol. 1: Preludes and Nocturnes (The Sandman (volumes) #1)\n",
      "21. The Republic\n",
      "22. The Odyssey\n",
      "23. The No. 1 Ladies' Detective Agency (No. 1 Ladies' Detective Agency #1)\n",
      "24. The Nicomachean Ethics\n",
      "25. The Name of the Wind (The Kingkiller Chronicle #1)\n",
      "26. The Mirror & the Maze (The Wrath and the Dawn #1.5)\n",
      "27. The Little Prince\n",
      "28. The Light of the Fireflies\n",
      "29. The Last Girl (The Dominion Trilogy #1)\n",
      "30. The Iliad\n",
      "31. The Hook Up (Game On #1)\n",
      "32. The Haters\n",
      "33. The Girl You Lost\n",
      "34. The Girl In The Ice (DCI Erika Foster #1)\n",
      "35. The End of the Jesus Era (An Investigation #1)\n",
      "36. The Edge of Reason (Bridget Jones #2)\n",
      "37. The Complete Maus (Maus #1-2)\n",
      "38. The Communist Manifesto\n",
      "39. The Bhagavad Gita\n",
      "40. The Bette Davis Club\n",
      "41. The Art of Not Breathing\n",
      "42. Taking Shots (Assassins #1)\n",
      "43. Starlark\n",
      "44. Skip Beat!, Vol. 01 (Skip Beat! #1)\n",
      "45. Sister Sable (The Mad Queen #1)\n",
      "46. Shatter Me (Shatter Me #1)\n",
      "47. Shameless\n",
      "48. Shadow Rites (Jane Yellowrock #10)\n",
      "49. Settling the Score (The Summer Games #1)\n",
      "50. Sense and Sensibility\n",
      "51. Saga, Volume 1 (Saga (Collected Editions) #1)\n",
      "52. Rhythm, Chord & Malykhin\n",
      "53. Rat Queens, Vol. 1: Sass & Sorcery (Rat Queens (Collected Editions) #1-5)\n",
      "54. Paradise Lost (Paradise #1)\n",
      "55. Paper Girls, Vol. 1 (Paper Girls #1-5)\n",
      "56. Ouran High School Host Club, Vol. 1 (Ouran High School Host Club #1)\n",
      "57. Origins (Alphas 0.5)\n",
      "58. One Second (Seven #7)\n",
      "59. On the Road (Duluoz Legend)\n",
      "60. Old Records Never Die: One Man's Quest for His Vinyl and His Past\n",
      "61. Off Sides (Off #1)\n",
      "62. Of Mice and Men\n",
      "63. Myriad (Prentor #1)\n",
      "64. My Perfect Mistake (Over the Top #1)\n",
      "65. Ms. Marvel, Vol. 1: No Normal (Ms. Marvel (2014-2015) #1)\n",
      "66. Meditations\n",
      "67. Matilda\n",
      "68. Lost Among the Living\n",
      "69. Lord of the Flies\n",
      "70. Listen to Me (Fusion #1)\n",
      "71. Kitchens of the Great Midwest\n",
      "72. Jane Eyre\n",
      "73. Imperfect Harmony\n",
      "74. Icing (Aces Hockey #2)\n",
      "75. Hawkeye, Vol. 1: My Life as a Weapon (Hawkeye #1)\n",
      "76. Having the Barbarian's Baby (Ice Planet Barbarians #7.5)\n",
      "77. Giant Days, Vol. 1 (Giant Days #1-4)\n",
      "78. Fruits Basket, Vol. 1 (Fruits Basket #1)\n",
      "79. Frankenstein\n",
      "80. Forever Rockers (The Rocker #12)\n",
      "81. Fighting Fate (Fighting #6)\n",
      "82. Emma\n",
      "83. Eat, Pray, Love\n",
      "84. Deep Under (Walker Security #1)\n",
      "85. Choosing Our Religion: The Spiritual Lives of America's Nones\n",
      "86. Charlie and the Chocolate Factory (Charlie Bucket #1)\n",
      "87. Charity's Cross (Charles Towne Belles #4)\n",
      "88. Bright Lines\n",
      "89. Bridget Jones's Diary (Bridget Jones #1)\n",
      "90. Bounty (Colorado Mountain #7)\n",
      "91. Blood Defense (Samantha Brinkman #1)\n",
      "92. Bleach, Vol. 1: Strawberry and the Soul Reapers (Bleach #1)\n",
      "93. Beyond Good and Evil\n",
      "94. Alice in Wonderland (Alice's Adventures in Wonderland #1)\n",
      "95. Ajin: Demi-Human, Volume 1 (Ajin: Demi-Human #1)\n",
      "96. A Spy's Devotion (The Regency Spies of London #1)\n",
      "97. 1st to Die (Women's Murder Club #1)\n",
      "98. 1,000 Places to See Before You Die\n"
     ]
    }
   ],
   "source": [
    "query = {\"quantity\": 1}\n",
    "print(\"Книги, которых на складе осталось по одной штуке:\\n\")\n",
    "for i,doc in enumerate(collection.find(query)):\n",
    "    print(str(i+1) + '. ' + doc['name'])"
   ]
  },
  {
   "cell_type": "code",
   "execution_count": 42,
   "metadata": {},
   "outputs": [
    {
     "name": "stdout",
     "output_type": "stream",
     "text": [
      "Наименований книг, которых на складе больше 10: 420\n"
     ]
    }
   ],
   "source": [
    "query = {'quantity': {'$gte': 10}}\n",
    "print(f'Наименований книг, которых на складе больше 10: {collection.count_documents(query)}')"
   ]
  },
  {
   "cell_type": "code",
   "execution_count": 57,
   "metadata": {},
   "outputs": [
    {
     "name": "stdout",
     "output_type": "stream",
     "text": [
      "Средняя цена книги: 35.07\n"
     ]
    }
   ],
   "source": [
    "query = {\"price\": {\"$ne\": 0}}\n",
    "projection = {\"_id\": 0, \"price\": 1}\n",
    "sm = 0\n",
    "for doc in collection.find(query, projection):\n",
    "    sm += doc['price']\n",
    "print(f'Средняя цена книги: {round(sm/collection.count_documents(query),2)}')"
   ]
  },
  {
   "cell_type": "code",
   "execution_count": 73,
   "metadata": {},
   "outputs": [
    {
     "name": "stdout",
     "output_type": "stream",
     "text": [
      "Книги, которые начинаются на 'z':\n",
      "Zealot: The Life and Times of Jesus of Nazareth\n",
      "Zero to One: Notes on Startups, or How to Build the Future\n",
      "Zero History (Blue Ant #3)\n"
     ]
    }
   ],
   "source": [
    "query = {\"name\": {\"$regex\": \"^z\", \"$options\": \"i\"}}\n",
    "print(f\"Книги, которые начинаются на 'z':\")\n",
    "for doc in collection.find(query):\n",
    "    print(doc['name'])"
   ]
  },
  {
   "cell_type": "code",
   "execution_count": 74,
   "metadata": {},
   "outputs": [],
   "source": [
    "client.close()"
   ]
  }
 ],
 "metadata": {
  "kernelspec": {
   "display_name": "Python 3",
   "language": "python",
   "name": "python3"
  },
  "language_info": {
   "codemirror_mode": {
    "name": "ipython",
    "version": 3
   },
   "file_extension": ".py",
   "mimetype": "text/x-python",
   "name": "python",
   "nbconvert_exporter": "python",
   "pygments_lexer": "ipython3",
   "version": "3.11.3"
  }
 },
 "nbformat": 4,
 "nbformat_minor": 2
}
